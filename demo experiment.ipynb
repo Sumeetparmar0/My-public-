{
 "cells": [
  {
   "cell_type": "code",
   "execution_count": 1,
   "id": "47795153-77fc-466b-9f4e-c366f7c3a01d",
   "metadata": {},
   "outputs": [
    {
     "name": "stdin",
     "output_type": "stream",
     "text": [
      "enter your name: sumeet\n"
     ]
    },
    {
     "name": "stdout",
     "output_type": "stream",
     "text": [
      "my name is sumeet\n"
     ]
    }
   ],
   "source": [
    "a= input('enter your name:')\n",
    "print('my name is', a)"
   ]
  },
  {
   "cell_type": "code",
   "execution_count": 45,
   "id": "ce55acaf-7f03-4c25-a1a9-57ab769159dd",
   "metadata": {},
   "outputs": [
    {
     "name": "stdin",
     "output_type": "stream",
     "text": [
      "enter first number 2.5\n",
      "enter second number 6.5\n",
      "enter the opration: X\n"
     ]
    },
    {
     "name": "stdout",
     "output_type": "stream",
     "text": [
      "the multiplication is: 16\n"
     ]
    }
   ],
   "source": [
    "x= float(input(\"enter first number\"))\n",
    "y= float(input(\"enter second number\"))\n",
    "\n",
    "Opration=input(\"enter the opration:\")\n",
    "if Opration==\"+\":\n",
    "    print(\"the sum is:\", int(x+y))\n",
    "elif Opration==\"X\":\n",
    "    print(\"the multiplication is:\", int(x*y))\n",
    "elif Opration==\"/\":\n",
    "    print(\"the divesion is:\", int(x/y))\n",
    "else:\n",
    "    print(\"invalid input Enter + , X or /\")"
   ]
  },
  {
   "cell_type": "code",
   "execution_count": 9,
   "id": "b7cafce4-d3a3-4bf8-82ec-5dd031426839",
   "metadata": {},
   "outputs": [],
   "source": [
    "def Jam(butter):\n",
    "    def Bread_jam():\n",
    "        print(\"aata bread\")\n",
    "        butter()\n",
    "        print(\"maida bread\")\n",
    "    return Bread_jam"
   ]
  },
  {
   "cell_type": "code",
   "execution_count": 10,
   "id": "9875904a-7d83-45aa-942b-c40d6cffe398",
   "metadata": {},
   "outputs": [],
   "source": [
    "@Jam\n",
    "def test():\n",
    "    print(4+5)"
   ]
  },
  {
   "cell_type": "code",
   "execution_count": 11,
   "id": "65768c6c-871e-4fe0-ae0e-9f104916c425",
   "metadata": {},
   "outputs": [
    {
     "name": "stdout",
     "output_type": "stream",
     "text": [
      "aata bread\n",
      "9\n",
      "maida bread\n"
     ]
    }
   ],
   "source": [
    "test()"
   ]
  },
  {
   "cell_type": "code",
   "execution_count": 17,
   "id": "18ad203e-45c1-4601-b840-32244aad6b8d",
   "metadata": {},
   "outputs": [
    {
     "data": {
      "text/plain": [
       "function"
      ]
     },
     "execution_count": 17,
     "metadata": {},
     "output_type": "execute_result"
    }
   ],
   "source": [
    "type(test)"
   ]
  },
  {
   "cell_type": "code",
   "execution_count": 18,
   "id": "fbbae749-bc6c-4e15-868e-62e9cdab06db",
   "metadata": {},
   "outputs": [
    {
     "data": {
      "text/plain": [
       "['__abs__',\n",
       " '__add__',\n",
       " '__and__',\n",
       " '__bool__',\n",
       " '__ceil__',\n",
       " '__class__',\n",
       " '__delattr__',\n",
       " '__dir__',\n",
       " '__divmod__',\n",
       " '__doc__',\n",
       " '__eq__',\n",
       " '__float__',\n",
       " '__floor__',\n",
       " '__floordiv__',\n",
       " '__format__',\n",
       " '__ge__',\n",
       " '__getattribute__',\n",
       " '__getnewargs__',\n",
       " '__gt__',\n",
       " '__hash__',\n",
       " '__index__',\n",
       " '__init__',\n",
       " '__init_subclass__',\n",
       " '__int__',\n",
       " '__invert__',\n",
       " '__le__',\n",
       " '__lshift__',\n",
       " '__lt__',\n",
       " '__mod__',\n",
       " '__mul__',\n",
       " '__ne__',\n",
       " '__neg__',\n",
       " '__new__',\n",
       " '__or__',\n",
       " '__pos__',\n",
       " '__pow__',\n",
       " '__radd__',\n",
       " '__rand__',\n",
       " '__rdivmod__',\n",
       " '__reduce__',\n",
       " '__reduce_ex__',\n",
       " '__repr__',\n",
       " '__rfloordiv__',\n",
       " '__rlshift__',\n",
       " '__rmod__',\n",
       " '__rmul__',\n",
       " '__ror__',\n",
       " '__round__',\n",
       " '__rpow__',\n",
       " '__rrshift__',\n",
       " '__rshift__',\n",
       " '__rsub__',\n",
       " '__rtruediv__',\n",
       " '__rxor__',\n",
       " '__setattr__',\n",
       " '__sizeof__',\n",
       " '__str__',\n",
       " '__sub__',\n",
       " '__subclasshook__',\n",
       " '__truediv__',\n",
       " '__trunc__',\n",
       " '__xor__',\n",
       " 'as_integer_ratio',\n",
       " 'bit_count',\n",
       " 'bit_length',\n",
       " 'conjugate',\n",
       " 'denominator',\n",
       " 'from_bytes',\n",
       " 'imag',\n",
       " 'numerator',\n",
       " 'real',\n",
       " 'to_bytes']"
      ]
     },
     "execution_count": 18,
     "metadata": {},
     "output_type": "execute_result"
    }
   ],
   "source": [
    "dir(int)"
   ]
  },
  {
   "cell_type": "code",
   "execution_count": 20,
   "id": "f836b646-5deb-494e-87d8-feee6bd70807",
   "metadata": {},
   "outputs": [
    {
     "data": {
      "text/plain": [
       "['__add__',\n",
       " '__class__',\n",
       " '__contains__',\n",
       " '__delattr__',\n",
       " '__dir__',\n",
       " '__doc__',\n",
       " '__eq__',\n",
       " '__format__',\n",
       " '__ge__',\n",
       " '__getattribute__',\n",
       " '__getitem__',\n",
       " '__getnewargs__',\n",
       " '__gt__',\n",
       " '__hash__',\n",
       " '__init__',\n",
       " '__init_subclass__',\n",
       " '__iter__',\n",
       " '__le__',\n",
       " '__len__',\n",
       " '__lt__',\n",
       " '__mod__',\n",
       " '__mul__',\n",
       " '__ne__',\n",
       " '__new__',\n",
       " '__reduce__',\n",
       " '__reduce_ex__',\n",
       " '__repr__',\n",
       " '__rmod__',\n",
       " '__rmul__',\n",
       " '__setattr__',\n",
       " '__sizeof__',\n",
       " '__str__',\n",
       " '__subclasshook__',\n",
       " 'capitalize',\n",
       " 'casefold',\n",
       " 'center',\n",
       " 'count',\n",
       " 'encode',\n",
       " 'endswith',\n",
       " 'expandtabs',\n",
       " 'find',\n",
       " 'format',\n",
       " 'format_map',\n",
       " 'index',\n",
       " 'isalnum',\n",
       " 'isalpha',\n",
       " 'isascii',\n",
       " 'isdecimal',\n",
       " 'isdigit',\n",
       " 'isidentifier',\n",
       " 'islower',\n",
       " 'isnumeric',\n",
       " 'isprintable',\n",
       " 'isspace',\n",
       " 'istitle',\n",
       " 'isupper',\n",
       " 'join',\n",
       " 'ljust',\n",
       " 'lower',\n",
       " 'lstrip',\n",
       " 'maketrans',\n",
       " 'partition',\n",
       " 'removeprefix',\n",
       " 'removesuffix',\n",
       " 'replace',\n",
       " 'rfind',\n",
       " 'rindex',\n",
       " 'rjust',\n",
       " 'rpartition',\n",
       " 'rsplit',\n",
       " 'rstrip',\n",
       " 'split',\n",
       " 'splitlines',\n",
       " 'startswith',\n",
       " 'strip',\n",
       " 'swapcase',\n",
       " 'title',\n",
       " 'translate',\n",
       " 'upper',\n",
       " 'zfill']"
      ]
     },
     "execution_count": 20,
     "metadata": {},
     "output_type": "execute_result"
    }
   ],
   "source": [
    "dir(str)"
   ]
  },
  {
   "cell_type": "code",
   "execution_count": 1,
   "id": "326d1d5a-c677-4710-9f8c-6fb6071705ca",
   "metadata": {},
   "outputs": [
    {
     "name": "stdout",
     "output_type": "stream",
     "text": [
      "'2nd feb.ipynb'              Day2_sumeet.ipynb        \u001b[0m\u001b[01;34mtest\u001b[0m/\n",
      "'3rd feb.ipynb'             'demo experiment.ipynb'   Untitled.ipynb\n",
      "'5th feb oops.ipynb'         README.md\n",
      "'8th feb oops class.ipynb'   sample-code.ipynb\n"
     ]
    }
   ],
   "source": [
    "ls"
   ]
  },
  {
   "cell_type": "code",
   "execution_count": 2,
   "id": "d311550e-d193-4af2-a9e4-cdf2b1e17083",
   "metadata": {},
   "outputs": [],
   "source": [
    "sumeet = open('Sumeet.txt', 'w')"
   ]
  },
  {
   "cell_type": "code",
   "execution_count": 4,
   "id": "a74e5959-8699-49fc-ba1d-1bb587e039bf",
   "metadata": {},
   "outputs": [
    {
     "data": {
      "text/plain": [
       "32"
      ]
     },
     "execution_count": 4,
     "metadata": {},
     "output_type": "execute_result"
    }
   ],
   "source": [
    "sumeet.write(\"this is my first writing in file\")"
   ]
  },
  {
   "cell_type": "code",
   "execution_count": 5,
   "id": "5938cf83-ce13-413c-9fb2-8294db7620d6",
   "metadata": {},
   "outputs": [],
   "source": [
    "sumeet.close()"
   ]
  },
  {
   "cell_type": "code",
   "execution_count": 6,
   "id": "f8ccd729-3a39-42aa-9880-d63ab6b2d41d",
   "metadata": {},
   "outputs": [],
   "source": [
    "parmar= open(\"Sumeet.txt\", \"r\")"
   ]
  },
  {
   "cell_type": "code",
   "execution_count": 7,
   "id": "d9dbd0e1-f996-405e-a8c6-49c3d9be7fcc",
   "metadata": {},
   "outputs": [
    {
     "data": {
      "text/plain": [
       "'this is my first writing in file'"
      ]
     },
     "execution_count": 7,
     "metadata": {},
     "output_type": "execute_result"
    }
   ],
   "source": [
    "parmar.read()"
   ]
  },
  {
   "cell_type": "code",
   "execution_count": 8,
   "id": "e5ece285-c7bd-484e-bff4-b55625504aa0",
   "metadata": {},
   "outputs": [
    {
     "data": {
      "text/plain": [
       "''"
      ]
     },
     "execution_count": 8,
     "metadata": {},
     "output_type": "execute_result"
    }
   ],
   "source": [
    "parmar.read()"
   ]
  },
  {
   "cell_type": "code",
   "execution_count": 10,
   "id": "3aeb6258-8375-4b4d-9536-b5adf1f46a42",
   "metadata": {},
   "outputs": [],
   "source": [
    "janamkundli=[[\"Name\", \"Birthdate\", \"Time\", \"Location\"], ['sumeet', '15nov92', '7pm', 'Jamnagar'], ['Hardik','24jun91','8pm','Kalavad'], ['Manisha','05may96','7AM','Morkanda']]"
   ]
  },
  {
   "cell_type": "code",
   "execution_count": 11,
   "id": "239900f5-b283-4d28-82b6-50cb1da4f2f3",
   "metadata": {},
   "outputs": [],
   "source": [
    "import csv"
   ]
  },
  {
   "cell_type": "code",
   "execution_count": 12,
   "id": "4f5e696d-c5cb-4422-ad07-10370b467765",
   "metadata": {},
   "outputs": [],
   "source": [
    "with open(\"janmpatrika.csv\", \"w\") as kundalidata:\n",
    "    X = csv.writer(kundalidata)\n",
    "    for i in janamkundli:\n",
    "        X.writerow(i)"
   ]
  },
  {
   "cell_type": "code",
   "execution_count": 13,
   "id": "80788856-d162-4b07-a76f-55563a269472",
   "metadata": {},
   "outputs": [
    {
     "name": "stdout",
     "output_type": "stream",
     "text": [
      "['Name', 'Birthdate', 'Time', 'Location']\n",
      "['sumeet', '15nov92', '7pm', 'Jamnagar']\n",
      "['Hardik', '24jun91', '8pm', 'Kalavad']\n",
      "['Manisha', '05may96', '7AM', 'Morkanda']\n"
     ]
    }
   ],
   "source": [
    "with open('janmpatrika.csv', 'r') as kundalidata:\n",
    "    read = csv.reader(kundalidata)\n",
    "    for i in read:\n",
    "        print(i)"
   ]
  },
  {
   "cell_type": "code",
   "execution_count": 2,
   "id": "ab78ed86-ae63-4c09-8648-83ba8a9284ad",
   "metadata": {},
   "outputs": [],
   "source": [
    "import logging"
   ]
  },
  {
   "cell_type": "code",
   "execution_count": 3,
   "id": "2232ef6a-02d0-4a79-a41d-918485ca3637",
   "metadata": {},
   "outputs": [],
   "source": [
    "logging.basicConfig(filename = \"my logs.log\", level = logging.DEBUG, format = \"%(asctime)s %(message)s\")"
   ]
  },
  {
   "cell_type": "code",
   "execution_count": 4,
   "id": "d1998883-4e62-4f8b-a8db-373ca2180ab8",
   "metadata": {},
   "outputs": [],
   "source": [
    "logging.info('this is my line of execution')"
   ]
  },
  {
   "cell_type": "code",
   "execution_count": 5,
   "id": "baa84b8a-aaa5-4953-894e-1b2a5311240c",
   "metadata": {},
   "outputs": [],
   "source": [
    "logging.error(\"this is my error\")"
   ]
  },
  {
   "cell_type": "code",
   "execution_count": 6,
   "id": "c424796c-7e05-4784-90c8-56f660c594bc",
   "metadata": {},
   "outputs": [],
   "source": [
    "logging.critical(\"this is critical\")"
   ]
  },
  {
   "cell_type": "code",
   "execution_count": null,
   "id": "cad50281-7f03-41f8-9e01-0236f94803ce",
   "metadata": {},
   "outputs": [],
   "source": []
  },
  {
   "cell_type": "code",
   "execution_count": null,
   "id": "5b4f3b31-6317-49f0-832b-1cc4d9083746",
   "metadata": {},
   "outputs": [],
   "source": []
  },
  {
   "cell_type": "code",
   "execution_count": null,
   "id": "b7847877-f01c-437d-a3ba-634b4e483795",
   "metadata": {},
   "outputs": [],
   "source": []
  },
  {
   "cell_type": "code",
   "execution_count": null,
   "id": "800f81f7-c0db-407a-83fa-7bac05eb859a",
   "metadata": {},
   "outputs": [],
   "source": []
  },
  {
   "cell_type": "code",
   "execution_count": null,
   "id": "99cccac6-d5d3-46e8-bbeb-38b223ad98e6",
   "metadata": {},
   "outputs": [],
   "source": []
  },
  {
   "cell_type": "code",
   "execution_count": null,
   "id": "206173c4-e919-476f-b055-0f768b70066a",
   "metadata": {},
   "outputs": [],
   "source": []
  }
 ],
 "metadata": {
  "kernelspec": {
   "display_name": "Python 3 (ipykernel)",
   "language": "python",
   "name": "python3"
  },
  "language_info": {
   "codemirror_mode": {
    "name": "ipython",
    "version": 3
   },
   "file_extension": ".py",
   "mimetype": "text/x-python",
   "name": "python",
   "nbconvert_exporter": "python",
   "pygments_lexer": "ipython3",
   "version": "3.10.8"
  }
 },
 "nbformat": 4,
 "nbformat_minor": 5
}
